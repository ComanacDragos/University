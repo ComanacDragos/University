{
 "cells": [
  {
   "cell_type": "markdown",
   "id": "888cbda2",
   "metadata": {},
   "source": [
    "# A notebook for the Bayesian probabilistic framework\n"
   ]
  },
  {
   "cell_type": "markdown",
   "id": "649c2bbe",
   "metadata": {
    "cell_style": "split"
   },
   "source": [
    "\n",
    "In this notebook we aim to use the __Bayesian probabilistic__ parameter estimation.\n",
    "\n",
    "For this reason we will be using the _HEIGHT-WEIGHT_ data-set."
   ]
  },
  {
   "cell_type": "code",
   "execution_count": null,
   "id": "346b8b4b",
   "metadata": {
    "cell_style": "split"
   },
   "outputs": [],
   "source": [
    "# The below packages are required for data manipulation\n",
    "\n",
    "import Plots, DataFrames, CSV\n",
    "\n",
    "hw = CSV.read(\n",
    "    \"hw_data.csv\",\n",
    "    DataFrames.DataFrame,\n",
    "    header=false\n",
    ")\n",
    "\n",
    ";"
   ]
  },
  {
   "cell_type": "code",
   "execution_count": null,
   "id": "a7228a9c",
   "metadata": {
    "cell_style": "split"
   },
   "outputs": [],
   "source": [
    "# making sure that the data was read in\n",
    "Plots.scatter(\n",
    "    hw[!,1],hw[!,2],\n",
    "    size=(360,180),label=false\n",
    ")\n",
    "# the default backend is the GR, \n",
    "# we can live with it."
   ]
  },
  {
   "cell_type": "markdown",
   "id": "56311b53",
   "metadata": {
    "cell_style": "split"
   },
   "source": [
    "## Help on using help in a _julialang_ notebook\n",
    "\n",
    "You can use the help system in julialang using the inline help or the online documentation:\n",
    "1. if online help is used -- e.g. in juliaplots.org -, you might want to explore the optional set of arguments,\n",
    "2. you can prefix a command with ? and if it is only that inside the cell.\n",
    "\n",
    "For example, we can check that\n",
    "```julia\n",
    "?range\n",
    "```\n",
    "will display the inline help in the system."
   ]
  },
  {
   "cell_type": "markdown",
   "id": "ebed1d6e",
   "metadata": {},
   "source": [
    "## Setting up the individual likelihood function\n"
   ]
  },
  {
   "cell_type": "markdown",
   "id": "59853218",
   "metadata": {
    "cell_style": "split"
   },
   "source": [
    "\n",
    "\n",
    "We are using the Gaussian likelihood\n",
    "\n",
    "\\begin{equation}\n",
    "P(\\ (y,x) |\\ \\theta,{\\cal{F}})\n",
    "=\n",
    "\\frac{1}{\\sigma\\sqrt{2\\pi}}\\exp\\left(-\\frac{\\|y-\\theta^T x\\|^2}{2\\sigma^2} \\right)\n",
    "\\end{equation}\n",
    "\n",
    "\n",
    "The above form of the likelihood function highlights that __data pair -- the input and output --__ is given a \"likelihood\".\n",
    "\n",
    "The code is next."
   ]
  },
  {
   "cell_type": "code",
   "execution_count": null,
   "id": "ab1cc91d",
   "metadata": {
    "cell_style": "split"
   },
   "outputs": [],
   "source": [
    "# the gauss pdf\n",
    "function pdf_gauss(z::T;σ=1) where T <: Real\n",
    "    exp(- z^2 / (2σ^2)) / (σ*sqrt(2π))\n",
    "end\n",
    "\n",
    "# likelihood for the linear model\n",
    "lik_one( (x,y),θ; σ=1 ) = \n",
    "    pdf_gauss(y - (x'*θ)[1]; σ = σ)\n",
    "\n",
    "lik_data(X,y,θ; σ=1) = prod([\n",
    "    lik_one((X[ii,:], y[ii]),θ; σ = σ )\n",
    "    for ii = 1:length(y)\n",
    "])\n",
    ";"
   ]
  },
  {
   "cell_type": "markdown",
   "id": "80c701da",
   "metadata": {},
   "source": [
    "## Checking the likelihood function"
   ]
  },
  {
   "cell_type": "markdown",
   "id": "a7fe9665",
   "metadata": {
    "cell_style": "split"
   },
   "source": [
    "The likelihood function has to be such that the integral is one; we code this by using the _Riemann formula_.\n",
    "\n",
    "$$\n",
    "val = \\int_{-\\infty}^\\infty \\ \\mathrm{pdf\\_gauss}(z) dz \\\\\n",
    "= \\int_{-v}^v \\ \\mathrm{pdf\\_gauss}(z) dz\n",
    "$$"
   ]
  },
  {
   "cell_type": "code",
   "execution_count": null,
   "id": "73f991c1",
   "metadata": {
    "cell_style": "split"
   },
   "outputs": [],
   "source": [
    "# setting a lower and upper limit\n",
    "v_lim = 20  #\n",
    "n_div = 501\n",
    "\n",
    "z_div = range(-v_lim,v_lim,length=n_div)\n",
    "δ_z   = z_div[2] - z_div[1]\n",
    "\n",
    "# we simulate the integration on [-inf,inf]\n",
    "total = sum([pdf_gauss(z) for z in z_div])*δ_z"
   ]
  },
  {
   "cell_type": "markdown",
   "id": "1d659c43",
   "metadata": {},
   "source": [
    "We see that the value we have is close to one, meaning that the function is a _probability density function_."
   ]
  },
  {
   "cell_type": "markdown",
   "id": "b5bb4029",
   "metadata": {},
   "source": [
    "## Setting up the data-set"
   ]
  },
  {
   "cell_type": "code",
   "execution_count": null,
   "id": "e0e05280",
   "metadata": {
    "cell_style": "split"
   },
   "outputs": [],
   "source": [
    "n_data = 4  # this value should be \n",
    "            # smaller than 19 - the length of data\n",
    "\n",
    "\n",
    "X = [ones(n_data,1) hw[1:n_data,1]]\n",
    "y = Vector(hw[1:n_data,2])\n",
    "\n",
    ";"
   ]
  },
  {
   "cell_type": "code",
   "execution_count": null,
   "id": "7f5c87ce",
   "metadata": {
    "cell_style": "split"
   },
   "outputs": [],
   "source": [
    "# plotting the restricted data-set\n",
    "p_data = Plots.scatter(X[:,2],y,\n",
    "    legend=false,\n",
    "    title=\"Small data-set\",\n",
    "    size=(400,250),titlefontsize=9,\n",
    "    xlim=(145,200),ylim=(45,115)\n",
    ")"
   ]
  },
  {
   "cell_type": "markdown",
   "id": "1a6b2f68",
   "metadata": {},
   "source": [
    "# Computing the Bayesian posterior distribution"
   ]
  },
  {
   "cell_type": "markdown",
   "id": "ffb1e2da",
   "metadata": {
    "cell_style": "split"
   },
   "source": [
    "The computation of the posterior requires that __we know__ the prior distribution for the parameters and that we know the __likelihood model__ of the data, that is:\n",
    "$$\n",
    "p_0(\\theta) \\propto \\exp\\left(-\\frac{\\|\\theta\\|^2}{2\\sigma_p^2}\\right) \\\\\n",
    "P({\\cal{D}}\\ |\\theta,{\\cal{F}}) \\propto \\prod_{n=1}^N p( (y_n,x_n)\\ | \\theta,{\\cal{F}})\n",
    "$$\n",
    "__Note__ that in the above formulation we are not that careful w.r.to the exact scaling of the functions - the reason is that in the Bayesian formalism the _FULL DATA PROBABILITY_ is not computable but one still will have to normalize."
   ]
  },
  {
   "cell_type": "markdown",
   "id": "cf8e79bc",
   "metadata": {
    "cell_style": "split"
   },
   "source": [
    "According to Bayes' rule, the a-posteriori distribution is computed as:\n",
    "$$\n",
    "p_{post}(\\theta |\\ {\\cal{D}},{\\cal{F}}) = \\frac{p({\\cal{D}} |\\ \\theta,{\\cal{F}})p_0(\\theta|{\\cal{F}})}{p({\\cal{D}}|\\ {\\cal{F}})}\n",
    "$$\n",
    "where ${\\cal{F}}$ is the model family - here the _linear models_.\n",
    "\n",
    "Since both the likelihood _and_ the prior are given up to a scaling constant, and the denominator $p({\\cal{D}}|\\ {\\cal{F}})$ is not easy to compute, we write the posterior as:\n",
    "$$\n",
    "p_{post}(\\theta) \\propto \n",
    "p({\\cal{D}} |\\ \\theta,{\\cal{F}})p_0(\\theta|{\\cal{F}})\n",
    ".\n",
    "$$\n",
    "\n",
    "The above means that the posterior has a scaling $Z$, the true posterior is:\n",
    "$$\n",
    "p_{post}(\\theta) = \\frac{1}{Z}\n",
    "p({\\cal{D}} |\\ \\theta,{\\cal{F}})p_0(\\theta|{\\cal{F}})\n",
    ".\n",
    "$$\n"
   ]
  },
  {
   "cell_type": "markdown",
   "id": "73f0ebbd",
   "metadata": {},
   "source": [
    "## The computation of the posterior\n",
    "\n",
    "There are two ways of computing the posterior: through sampling and through analytical consideration.\n",
    "\n",
    "### Posterior computation through sampling\n",
    "\n",
    "We use the Bayes rule to determine __moments__ of the posterior:\n",
    "$$\n",
    "\\langle f(\\theta) \\rangle_p = \\int_\\Omega\\ f(\\theta) dp_{post}(\\theta|{\\cal{D},\\cal{F}}) = \\int_\\Omega\\ f(\\theta) p({\\cal{D}} |\\ \\theta,{\\cal{F}})p_0(\\theta|{\\cal{F}}) d\\theta\n",
    "= \\frac{1}{T}\\sum_{t=1}^T f(\\theta_t) p({\\cal{D}} |\\ \\theta_t,{\\cal{F}})\n",
    "$$\n",
    "and we see that it is a _weighted_ sum where the weights $w_t=p({\\cal{D}} |\\ \\theta_t,{\\cal{F}})$.\n",
    "\n",
    "In practice the calculation uses the fact that\n",
    "$$\n",
    "1 = \\langle 1 \\rangle_p\n",
    "= \\frac{1}{Z}\\frac{1}{T}\\sum_{t=1}^T 1 p({\\cal{D}} |\\ \\theta_t,{\\cal{F}})\n",
    "$$\n",
    "giving the possibility to express $Z$.\n"
   ]
  },
  {
   "cell_type": "markdown",
   "id": "953c5b2c",
   "metadata": {},
   "source": [
    "Below we have the code for sampling.\n",
    "\n",
    "We sample a multidimensional Gaussian with variance $\\sigma_0$ and - optionally with mean $\\mu_0$:\n",
    "\n",
    "```julia\n",
    "sample_theta(dim, variance; mean=0)\n",
    "```"
   ]
  },
  {
   "cell_type": "code",
   "execution_count": null,
   "id": "40576d16",
   "metadata": {},
   "outputs": [],
   "source": [
    "sample_theta(dim,σ_0,μ_0=zeros(dim))= μ_0 + σ_0 * randn(dim,1)"
   ]
  },
  {
   "cell_type": "code",
   "execution_count": null,
   "id": "48cc5e28",
   "metadata": {
    "cell_style": "split"
   },
   "outputs": [],
   "source": [
    "# sampling from the distribution\n",
    "n_sample = 50_000\n",
    "θ_mean = [-100, 1]\n",
    "θ_std  = 50\n",
    "θ_dim  = size(X,2)\n",
    "\n",
    "# the sampling code\n",
    "θ_sam  = [\n",
    "    sample_theta(θ_dim,θ_std,θ_mean) \n",
    "    for _ = 1:n_sample\n",
    "]\n",
    ";"
   ]
  },
  {
   "cell_type": "code",
   "execution_count": null,
   "id": "9d2d6994",
   "metadata": {
    "cell_style": "split"
   },
   "outputs": [],
   "source": [
    "th = hcat(θ_sam...)'\n",
    "p_sam = Plots.scatter(\n",
    "    th[:,1],th[:,2],\n",
    "    size=(400,250),\n",
    "    markerstrokewidth=0,markersize=1,\n",
    "    legend=false)"
   ]
  },
  {
   "cell_type": "code",
   "execution_count": null,
   "id": "0d2274bc",
   "metadata": {
    "cell_style": "split"
   },
   "outputs": [],
   "source": [
    "# computing weights\n",
    "w = [lik_data(X,y,θ; σ=14) for θ in θ_sam]\n",
    "# denominator\n",
    "Z = sum(w)\n",
    "# numerator\n",
    "num = sum(w.*θ_sam)\n",
    "\n",
    "# the empirical mean\n",
    "num ./ Z"
   ]
  },
  {
   "cell_type": "code",
   "execution_count": null,
   "id": "35d5e8c9",
   "metadata": {
    "cell_style": "split"
   },
   "outputs": [],
   "source": [
    "Plots.histogram(log10.(w),\n",
    "    bins=3000,\n",
    "    size=(400,140),\n",
    "    legend=false\n",
    ")"
   ]
  },
  {
   "cell_type": "markdown",
   "id": "9c98c710",
   "metadata": {},
   "source": [
    "## Analyzing the algorithm to compute the mean\n",
    "\n",
    "The most likely parameters using a sample of $50.000$ data leads to a pair $\\theta=[-77,0.9]$ but this is based on individual weights that are small - only $100$ of them are larger than $10^{-8}$.\n",
    "\n",
    "This is done by counting \"_the most significant_\" ones:\n",
    "```julia\n",
    "count(w .> 1e-8)\n",
    "```\n",
    "\n",
    "The number - which in the particular setting was $100$ indicates that the results will be unstable - the denominator in the formula for the mean is __way too small__. \n",
    "\n",
    "Additionally, if there are more, than a few data items, the data likelihood term is becoming even smaller, reducing the confidence and increasing the uncertainty in the estimation."
   ]
  },
  {
   "cell_type": "code",
   "execution_count": null,
   "id": "7c204932",
   "metadata": {
    "cell_style": "split"
   },
   "outputs": [],
   "source": [
    "count(w .> 1e-8)"
   ]
  },
  {
   "cell_type": "markdown",
   "id": "9b0a5d8d",
   "metadata": {
    "cell_style": "split"
   },
   "source": [
    "### Printing out a notebook\n",
    "\n",
    "When printing the notebook, I suggest to use the __SAVE-TO-PDF__ function of your browser. This works best if you are using the ``GR`` backend for plotting."
   ]
  },
  {
   "cell_type": "markdown",
   "id": "39080a5b",
   "metadata": {},
   "source": [
    "# Your task\n",
    "\n",
    "1. Interpret the result of the Bayesian scheme using the _two plot handles_ ``p_data`` and ``p_sam`` by \n",
    "  1. plotting the $100$ _likely_-est functions on ``p_data`` plot.\n",
    "  2. plotting - with scatter - the _likely_ parameters on ``p_sam``, i.e in the parameter space.\n",
    "\n",
    "  Make the plots visible - by using ``xlim``, ``lyim`` and other parameters - and explain your results in a notebook cell.\n",
    "  \n",
    "  (3p).\n",
    "\n",
    "1. Change the data-size to $10$, re-do the above calculation _and_ select ``meaningful`` samples.\n",
    "\n",
    "  You should see that the number of __good__ parameters diminished significantly. Explain your results.\n",
    "  \n",
    "  (3p).\n",
    "  \n",
    "1. (Using new sections)\n",
    " \n",
    "  Re-do the calculation using the sampling - but store only the __logarithm__ of the data likelihood values and in computing the samples, use the \"_broadcast_\" version of the ``exp.(w)`` function.\n",
    "\n",
    "  (2p).\n",
    "\n",
    "  1. prove that you can add __any constant__ to each $lw = \\log(w_t)$ and this does not change the output of the Bayesian calculation.\n",
    "  \n",
    "    (1p).\n",
    "  \n",
    "  1. For the sample - say of size $50.000$ - compute the maximum value of ``lw`` and subtract this from each log-weight - making the maximum weights equal to $\\exp(0)=1$.\n",
    "  \n",
    "    (1p).\n",
    "\n",
    "  1. with the transformed weights compute the mean of the parameters.\n",
    "     \n",
    "    (1p).\n",
    "\n",
    "  1. plot the _likeliest_ parameters as from above - using the new computation of weights.\n",
    "  \n",
    "1. Compute - using the argumentation from above - the sample covariance of the parameter vector.\n",
    "  \n",
    "  (4p).\n",
    "\n"
   ]
  },
  {
   "cell_type": "code",
   "execution_count": null,
   "id": "87e8cfc6",
   "metadata": {},
   "outputs": [],
   "source": []
  }
 ],
 "metadata": {
  "kernelspec": {
   "display_name": "Julia 1.8.2",
   "language": "julia",
   "name": "julia-1.8"
  },
  "language_info": {
   "file_extension": ".jl",
   "mimetype": "application/julia",
   "name": "julia",
   "version": "1.8.2"
  },
  "latex_envs": {
   "LaTeX_envs_menu_present": true,
   "autoclose": false,
   "autocomplete": false,
   "bibliofile": "biblio.bib",
   "cite_by": "apalike",
   "current_citInitial": 1,
   "eqLabelWithNumbers": true,
   "eqNumInitial": 1,
   "hotkeys": {
    "equation": "Ctrl-E",
    "itemize": "Ctrl-I"
   },
   "labels_anchors": false,
   "latex_user_defs": false,
   "report_style_numbering": true,
   "user_envs_cfg": false
  },
  "toc": {
   "base_numbering": 1,
   "nav_menu": {},
   "number_sections": true,
   "sideBar": true,
   "skip_h1_title": false,
   "title_cell": "Table of Contents",
   "title_sidebar": "Contents",
   "toc_cell": false,
   "toc_position": {},
   "toc_section_display": true,
   "toc_window_display": false
  }
 },
 "nbformat": 4,
 "nbformat_minor": 5
}
